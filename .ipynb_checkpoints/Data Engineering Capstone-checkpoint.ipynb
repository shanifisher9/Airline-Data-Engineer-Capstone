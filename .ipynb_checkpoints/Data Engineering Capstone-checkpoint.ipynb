{
 "cells": [
  {
   "cell_type": "code",
   "execution_count": 3,
   "metadata": {},
   "outputs": [],
   "source": [
    "import pandas as pd\n",
    "import numpy as np\n",
    "import matplotlib as mb\n",
    "import seaborn as sn\n",
    "from pandas.compat import StringIO"
   ]
  },
  {
   "cell_type": "code",
   "execution_count": null,
   "metadata": {},
   "outputs": [],
   "source": [
    "Covid-19 has had a huge impact on the world,  every person individually and espeically the transportation industry. Transportation is key to everyday living,  seeing loved ones and exploring the world.   "
   ]
  },
  {
   "cell_type": "code",
   "execution_count": 17,
   "metadata": {},
   "outputs": [
    {
     "data": {
      "text/html": [
       "<div>\n",
       "<style scoped>\n",
       "    .dataframe tbody tr th:only-of-type {\n",
       "        vertical-align: middle;\n",
       "    }\n",
       "\n",
       "    .dataframe tbody tr th {\n",
       "        vertical-align: top;\n",
       "    }\n",
       "\n",
       "    .dataframe thead th {\n",
       "        text-align: right;\n",
       "    }\n",
       "</style>\n",
       "<table border=\"1\" class=\"dataframe\">\n",
       "  <thead>\n",
       "    <tr style=\"text-align: right;\">\n",
       "      <th></th>\n",
       "      <th>id</th>\n",
       "      <th>ident</th>\n",
       "      <th>type</th>\n",
       "      <th>name</th>\n",
       "      <th>latitude_deg</th>\n",
       "      <th>longitude_deg</th>\n",
       "      <th>elevation_ft</th>\n",
       "      <th>continent</th>\n",
       "      <th>iso_country</th>\n",
       "      <th>iso_region</th>\n",
       "      <th>municipality</th>\n",
       "      <th>scheduled_service</th>\n",
       "      <th>gps_code</th>\n",
       "      <th>iata_code</th>\n",
       "      <th>local_code</th>\n",
       "      <th>home_link</th>\n",
       "      <th>wikipedia_link</th>\n",
       "      <th>keywords</th>\n",
       "    </tr>\n",
       "  </thead>\n",
       "  <tbody>\n",
       "    <tr>\n",
       "      <th>26544</th>\n",
       "      <td>337041</td>\n",
       "      <td>IT-0573</td>\n",
       "      <td>heliport</td>\n",
       "      <td>Eliporto S.G.Rotondo</td>\n",
       "      <td>41.693749</td>\n",
       "      <td>15.710771</td>\n",
       "      <td>1801.0</td>\n",
       "      <td>EU</td>\n",
       "      <td>IT</td>\n",
       "      <td>IT-75</td>\n",
       "      <td>San Giovanni Rotondo</td>\n",
       "      <td>no</td>\n",
       "      <td>NaN</td>\n",
       "      <td>NaN</td>\n",
       "      <td>NaN</td>\n",
       "      <td>https://alidaunia.it/helipad-posts/san-giovann...</td>\n",
       "      <td>https://www.google.it/maps/place/Elisuperficie...</td>\n",
       "      <td>NaN</td>\n",
       "    </tr>\n",
       "    <tr>\n",
       "      <th>42347</th>\n",
       "      <td>3809</td>\n",
       "      <td>RK25</td>\n",
       "      <td>small_airport</td>\n",
       "      <td>Tongjin Airfield (G-107)</td>\n",
       "      <td>37.715263</td>\n",
       "      <td>126.560110</td>\n",
       "      <td>45.0</td>\n",
       "      <td>AS</td>\n",
       "      <td>KR</td>\n",
       "      <td>KR-41</td>\n",
       "      <td>Wolgot-myeon</td>\n",
       "      <td>no</td>\n",
       "      <td>NaN</td>\n",
       "      <td>NaN</td>\n",
       "      <td>RK25</td>\n",
       "      <td>NaN</td>\n",
       "      <td>NaN</td>\n",
       "      <td>RK25, G 107, G-107, Tongjin, Wolgot</td>\n",
       "    </tr>\n",
       "    <tr>\n",
       "      <th>15377</th>\n",
       "      <td>28361</td>\n",
       "      <td>CEW8</td>\n",
       "      <td>seaplane_base</td>\n",
       "      <td>Paulatuk Seaplane Base</td>\n",
       "      <td>69.349998</td>\n",
       "      <td>-124.067001</td>\n",
       "      <td>NaN</td>\n",
       "      <td>NaN</td>\n",
       "      <td>CA</td>\n",
       "      <td>CA-NT</td>\n",
       "      <td>NaN</td>\n",
       "      <td>no</td>\n",
       "      <td>CEW8</td>\n",
       "      <td>NaN</td>\n",
       "      <td>CEW8</td>\n",
       "      <td>NaN</td>\n",
       "      <td>NaN</td>\n",
       "      <td>NaN</td>\n",
       "    </tr>\n",
       "  </tbody>\n",
       "</table>\n",
       "</div>"
      ],
      "text/plain": [
       "           id    ident           type                      name  latitude_deg  \\\n",
       "26544  337041  IT-0573       heliport      Eliporto S.G.Rotondo     41.693749   \n",
       "42347    3809     RK25  small_airport  Tongjin Airfield (G-107)     37.715263   \n",
       "15377   28361     CEW8  seaplane_base    Paulatuk Seaplane Base     69.349998   \n",
       "\n",
       "       longitude_deg  elevation_ft continent iso_country iso_region  \\\n",
       "26544      15.710771        1801.0        EU          IT      IT-75   \n",
       "42347     126.560110          45.0        AS          KR      KR-41   \n",
       "15377    -124.067001           NaN       NaN          CA      CA-NT   \n",
       "\n",
       "               municipality scheduled_service gps_code iata_code local_code  \\\n",
       "26544  San Giovanni Rotondo                no      NaN       NaN        NaN   \n",
       "42347          Wolgot-myeon                no      NaN       NaN       RK25   \n",
       "15377                   NaN                no     CEW8       NaN       CEW8   \n",
       "\n",
       "                                               home_link  \\\n",
       "26544  https://alidaunia.it/helipad-posts/san-giovann...   \n",
       "42347                                                NaN   \n",
       "15377                                                NaN   \n",
       "\n",
       "                                          wikipedia_link  \\\n",
       "26544  https://www.google.it/maps/place/Elisuperficie...   \n",
       "42347                                                NaN   \n",
       "15377                                                NaN   \n",
       "\n",
       "                                  keywords  \n",
       "26544                                  NaN  \n",
       "42347  RK25, G 107, G-107, Tongjin, Wolgot  \n",
       "15377                                  NaN  "
      ]
     },
     "execution_count": 17,
     "metadata": {},
     "output_type": "execute_result"
    }
   ],
   "source": [
    "airports = pd.read_csv('airports.csv')\n",
    "airports.sample(3)"
   ]
  },
  {
   "cell_type": "code",
   "execution_count": 22,
   "metadata": {},
   "outputs": [
    {
     "data": {
      "text/plain": [
       "0"
      ]
     },
     "execution_count": 22,
     "metadata": {},
     "output_type": "execute_result"
    }
   ],
   "source": [
    "#airports.duplicates().sum()\n",
    "len(airports)-len(airports.drop_duplicates())\n",
    "#https://stackoverflow.com/questions/35584085/how-to-count-duplicate-rows-in-pandas-dataframe"
   ]
  },
  {
   "cell_type": "code",
   "execution_count": 23,
   "metadata": {},
   "outputs": [
    {
     "name": "stdout",
     "output_type": "stream",
     "text": [
      "(59044, 18)\n"
     ]
    },
    {
     "data": {
      "text/plain": [
       "id                       0\n",
       "ident                    0\n",
       "type                     0\n",
       "name                     0\n",
       "latitude_deg             0\n",
       "longitude_deg            0\n",
       "elevation_ft          8672\n",
       "continent            29227\n",
       "iso_country            246\n",
       "iso_region               0\n",
       "municipality          5875\n",
       "scheduled_service        0\n",
       "gps_code             17209\n",
       "iata_code            49808\n",
       "local_code           28306\n",
       "home_link            55862\n",
       "wikipedia_link       48916\n",
       "keywords             48113\n",
       "dtype: int64"
      ]
     },
     "execution_count": 23,
     "metadata": {},
     "output_type": "execute_result"
    }
   ],
   "source": [
    "print(airports.shape)\n",
    "airports.isnull().sum()"
   ]
  },
  {
   "cell_type": "code",
   "execution_count": 1,
   "metadata": {},
   "outputs": [],
   "source": [
    "#airport_freq = pd.read_csv('airport-frequencies.csv')\n",
    "#airport_freq.sample(3)"
   ]
  },
  {
   "cell_type": "code",
   "execution_count": 105,
   "metadata": {},
   "outputs": [],
   "source": [
    "#airport_runway = pd.read_csv('runways.csv')\n",
    "#airport_runway.sample(3)\n",
    "#airport_runway.shape"
   ]
  },
  {
   "cell_type": "code",
   "execution_count": 106,
   "metadata": {},
   "outputs": [],
   "source": [
    "#airports.shape"
   ]
  },
  {
   "cell_type": "code",
   "execution_count": 107,
   "metadata": {},
   "outputs": [],
   "source": [
    "#print(len(airport_runway)-len(airport_runway.drop_duplicates()))\n",
    "#print(airport_runway.shape)\n",
    "#airport_runway.isnull().sum()"
   ]
  },
  {
   "cell_type": "code",
   "execution_count": 5,
   "metadata": {},
   "outputs": [],
   "source": [
    "#airport_freq.shape"
   ]
  },
  {
   "cell_type": "code",
   "execution_count": 6,
   "metadata": {},
   "outputs": [],
   "source": [
    "#airport_navaids = pd.read_csv('navaids.csv')\n",
    "#print(airport_navaids.shape)\n",
    "#airport_navaids.sample(3)"
   ]
  },
  {
   "cell_type": "code",
   "execution_count": 157,
   "metadata": {},
   "outputs": [
    {
     "data": {
      "text/html": [
       "<div>\n",
       "<style scoped>\n",
       "    .dataframe tbody tr th:only-of-type {\n",
       "        vertical-align: middle;\n",
       "    }\n",
       "\n",
       "    .dataframe tbody tr th {\n",
       "        vertical-align: top;\n",
       "    }\n",
       "\n",
       "    .dataframe thead th {\n",
       "        text-align: right;\n",
       "    }\n",
       "</style>\n",
       "<table border=\"1\" class=\"dataframe\">\n",
       "  <thead>\n",
       "    <tr style=\"text-align: right;\">\n",
       "      <th></th>\n",
       "      <th>id</th>\n",
       "      <th>code</th>\n",
       "      <th>name</th>\n",
       "      <th>continent</th>\n",
       "      <th>wikipedia_link</th>\n",
       "      <th>keywords</th>\n",
       "    </tr>\n",
       "  </thead>\n",
       "  <tbody>\n",
       "    <tr>\n",
       "      <th>202</th>\n",
       "      <td>302800</td>\n",
       "      <td>SR</td>\n",
       "      <td>Suriname</td>\n",
       "      <td>SA</td>\n",
       "      <td>https://en.wikipedia.org/wiki/Suriname</td>\n",
       "      <td>NaN</td>\n",
       "    </tr>\n",
       "    <tr>\n",
       "      <th>174</th>\n",
       "      <td>302657</td>\n",
       "      <td>PK</td>\n",
       "      <td>Pakistan</td>\n",
       "      <td>AS</td>\n",
       "      <td>https://en.wikipedia.org/wiki/Pakistan</td>\n",
       "      <td>پاکستان کے ہوائی اڈوں</td>\n",
       "    </tr>\n",
       "    <tr>\n",
       "      <th>44</th>\n",
       "      <td>302565</td>\n",
       "      <td>CM</td>\n",
       "      <td>Cameroon</td>\n",
       "      <td>AF</td>\n",
       "      <td>https://en.wikipedia.org/wiki/Cameroon</td>\n",
       "      <td>NaN</td>\n",
       "    </tr>\n",
       "  </tbody>\n",
       "</table>\n",
       "</div>"
      ],
      "text/plain": [
       "         id code      name continent                          wikipedia_link  \\\n",
       "202  302800   SR  Suriname        SA  https://en.wikipedia.org/wiki/Suriname   \n",
       "174  302657   PK  Pakistan        AS  https://en.wikipedia.org/wiki/Pakistan   \n",
       "44   302565   CM  Cameroon        AF  https://en.wikipedia.org/wiki/Cameroon   \n",
       "\n",
       "                  keywords  \n",
       "202                    NaN  \n",
       "174  پاکستان کے ہوائی اڈوں  \n",
       "44                     NaN  "
      ]
     },
     "execution_count": 157,
     "metadata": {},
     "output_type": "execute_result"
    }
   ],
   "source": [
    "airport_countries = pd.read_csv('countries.csv')\n",
    "airport_countries.shape\n",
    "airport_countries.sample(3)"
   ]
  },
  {
   "cell_type": "code",
   "execution_count": 28,
   "metadata": {},
   "outputs": [
    {
     "name": "stdout",
     "output_type": "stream",
     "text": [
      "0\n",
      "(247, 6)\n"
     ]
    },
    {
     "data": {
      "text/plain": [
       "id                  0\n",
       "code                1\n",
       "name                0\n",
       "continent          41\n",
       "wikipedia_link      0\n",
       "keywords          155\n",
       "dtype: int64"
      ]
     },
     "execution_count": 28,
     "metadata": {},
     "output_type": "execute_result"
    }
   ],
   "source": [
    "print(len(airport_countries)-len(airport_countries.drop_duplicates()))\n",
    "print(airport_countries.shape)\n",
    "airport_countries.isnull().sum()"
   ]
  },
  {
   "cell_type": "code",
   "execution_count": 7,
   "metadata": {},
   "outputs": [],
   "source": [
    "#airport_regions = pd.read_csv('regions.csv')\n",
    "#airport_regions.shape\n",
    "#airport_regions.sample(3)"
   ]
  },
  {
   "cell_type": "code",
   "execution_count": 8,
   "metadata": {},
   "outputs": [],
   "source": [
    "#airport_safety = pd.read_csv('airline-safety_csv.csv')\n",
    "#airport_safety.shape\n",
    "#airport_safety.sample(3)"
   ]
  },
  {
   "cell_type": "code",
   "execution_count": 68,
   "metadata": {},
   "outputs": [],
   "source": [
    "#after testing replace StringIO(temp) to filename\n",
    "#df = pd.read_csv('airlines.dat', sep=r'\\s{2,}', engine='python')"
   ]
  },
  {
   "cell_type": "code",
   "execution_count": 168,
   "metadata": {},
   "outputs": [
    {
     "data": {
      "text/html": [
       "<div>\n",
       "<style scoped>\n",
       "    .dataframe tbody tr th:only-of-type {\n",
       "        vertical-align: middle;\n",
       "    }\n",
       "\n",
       "    .dataframe tbody tr th {\n",
       "        vertical-align: top;\n",
       "    }\n",
       "\n",
       "    .dataframe thead th {\n",
       "        text-align: right;\n",
       "    }\n",
       "</style>\n",
       "<table border=\"1\" class=\"dataframe\">\n",
       "  <thead>\n",
       "    <tr style=\"text-align: right;\">\n",
       "      <th></th>\n",
       "      <th>-1</th>\n",
       "      <th>Unknown</th>\n",
       "      <th>\\N</th>\n",
       "      <th>-</th>\n",
       "      <th>N/A</th>\n",
       "      <th>\\N.1</th>\n",
       "      <th>\\N.2</th>\n",
       "      <th>Y</th>\n",
       "    </tr>\n",
       "  </thead>\n",
       "  <tbody>\n",
       "    <tr>\n",
       "      <th>0</th>\n",
       "      <td>1</td>\n",
       "      <td>Private flight</td>\n",
       "      <td>\\N</td>\n",
       "      <td>-</td>\n",
       "      <td>NaN</td>\n",
       "      <td>NaN</td>\n",
       "      <td>NaN</td>\n",
       "      <td>Y</td>\n",
       "    </tr>\n",
       "    <tr>\n",
       "      <th>1</th>\n",
       "      <td>2</td>\n",
       "      <td>135 Airways</td>\n",
       "      <td>\\N</td>\n",
       "      <td>NaN</td>\n",
       "      <td>GNL</td>\n",
       "      <td>GENERAL</td>\n",
       "      <td>United States</td>\n",
       "      <td>N</td>\n",
       "    </tr>\n",
       "    <tr>\n",
       "      <th>2</th>\n",
       "      <td>3</td>\n",
       "      <td>1Time Airline</td>\n",
       "      <td>\\N</td>\n",
       "      <td>1T</td>\n",
       "      <td>RNX</td>\n",
       "      <td>NEXTIME</td>\n",
       "      <td>South Africa</td>\n",
       "      <td>Y</td>\n",
       "    </tr>\n",
       "  </tbody>\n",
       "</table>\n",
       "</div>"
      ],
      "text/plain": [
       "   -1         Unknown  \\N    -  N/A     \\N.1           \\N.2  Y\n",
       "0   1  Private flight  \\N    -  NaN      NaN            NaN  Y\n",
       "1   2     135 Airways  \\N  NaN  GNL  GENERAL  United States  N\n",
       "2   3   1Time Airline  \\N   1T  RNX  NEXTIME   South Africa  Y"
      ]
     },
     "execution_count": 168,
     "metadata": {},
     "output_type": "execute_result"
    }
   ],
   "source": [
    "airlines = pd.read_csv('airlines.dat', sep=',')\n",
    "airlines.head(3)"
   ]
  },
  {
   "cell_type": "code",
   "execution_count": 169,
   "metadata": {},
   "outputs": [],
   "source": [
    "#removes first row\n",
    "airlines = airlines.iloc[1:]"
   ]
  },
  {
   "cell_type": "code",
   "execution_count": 170,
   "metadata": {},
   "outputs": [],
   "source": [
    "#deleting first column - since it's just counting the rows\n",
    "airlines = airlines.drop('-1',1)"
   ]
  },
  {
   "cell_type": "code",
   "execution_count": 171,
   "metadata": {},
   "outputs": [],
   "source": [
    "#removing 3rd Column becuase it is a back comment\n",
    "airlines = airlines.drop(airlines.columns[2], axis=1)"
   ]
  },
  {
   "cell_type": "code",
   "execution_count": 172,
   "metadata": {},
   "outputs": [],
   "source": [
    "#Renaming Column Headeres\n",
    "airlines.columns = ['Airline', 'IATA', 'Icao Code', 'Callsign', 'Country', 'Active']"
   ]
  },
  {
   "cell_type": "code",
   "execution_count": 173,
   "metadata": {},
   "outputs": [
    {
     "data": {
      "text/html": [
       "<div>\n",
       "<style scoped>\n",
       "    .dataframe tbody tr th:only-of-type {\n",
       "        vertical-align: middle;\n",
       "    }\n",
       "\n",
       "    .dataframe tbody tr th {\n",
       "        vertical-align: top;\n",
       "    }\n",
       "\n",
       "    .dataframe thead th {\n",
       "        text-align: right;\n",
       "    }\n",
       "</style>\n",
       "<table border=\"1\" class=\"dataframe\">\n",
       "  <thead>\n",
       "    <tr style=\"text-align: right;\">\n",
       "      <th></th>\n",
       "      <th>Airline</th>\n",
       "      <th>IATA</th>\n",
       "      <th>Icao Code</th>\n",
       "      <th>Callsign</th>\n",
       "      <th>Country</th>\n",
       "      <th>Active</th>\n",
       "    </tr>\n",
       "  </thead>\n",
       "  <tbody>\n",
       "    <tr>\n",
       "      <th>1</th>\n",
       "      <td>135 Airways</td>\n",
       "      <td>\\N</td>\n",
       "      <td>GNL</td>\n",
       "      <td>GENERAL</td>\n",
       "      <td>United States</td>\n",
       "      <td>N</td>\n",
       "    </tr>\n",
       "    <tr>\n",
       "      <th>2</th>\n",
       "      <td>1Time Airline</td>\n",
       "      <td>\\N</td>\n",
       "      <td>RNX</td>\n",
       "      <td>NEXTIME</td>\n",
       "      <td>South Africa</td>\n",
       "      <td>Y</td>\n",
       "    </tr>\n",
       "    <tr>\n",
       "      <th>3</th>\n",
       "      <td>2 Sqn No 1 Elementary Flying Training School</td>\n",
       "      <td>\\N</td>\n",
       "      <td>WYT</td>\n",
       "      <td>NaN</td>\n",
       "      <td>United Kingdom</td>\n",
       "      <td>N</td>\n",
       "    </tr>\n",
       "  </tbody>\n",
       "</table>\n",
       "</div>"
      ],
      "text/plain": [
       "                                        Airline IATA Icao Code Callsign  \\\n",
       "1                                   135 Airways   \\N       GNL  GENERAL   \n",
       "2                                 1Time Airline   \\N       RNX  NEXTIME   \n",
       "3  2 Sqn No 1 Elementary Flying Training School   \\N       WYT      NaN   \n",
       "\n",
       "          Country Active  \n",
       "1   United States      N  \n",
       "2    South Africa      Y  \n",
       "3  United Kingdom      N  "
      ]
     },
     "execution_count": 173,
     "metadata": {},
     "output_type": "execute_result"
    }
   ],
   "source": [
    "airlines.head(3)"
   ]
  },
  {
   "cell_type": "code",
   "execution_count": 174,
   "metadata": {},
   "outputs": [],
   "source": [
    "airlines['Icao Code'].replace({'\\\\N': None},inplace =True)\n",
    "airlines['IATA'].replace({'\\\\N': None},inplace =True)"
   ]
  },
  {
   "cell_type": "code",
   "execution_count": 152,
   "metadata": {},
   "outputs": [
    {
     "data": {
      "text/plain": [
       "1                        None\n",
       "2                        None\n",
       "3                        None\n",
       "4                        None\n",
       "5                        None\n",
       "6                        None\n",
       "7                        None\n",
       "8                        None\n",
       "9                        None\n",
       "10                       None\n",
       "11                       None\n",
       "12                       None\n",
       "13                       None\n",
       "14                       None\n",
       "15                       None\n",
       "16                       None\n",
       "17                       None\n",
       "18                       None\n",
       "19                       None\n",
       "20                       None\n",
       "21                       None\n",
       "22                       None\n",
       "23                       None\n",
       "24                       None\n",
       "25                       None\n",
       "26                       None\n",
       "27                       None\n",
       "28                       None\n",
       "29                       None\n",
       "30                       None\n",
       "                ...          \n",
       "6131               Fly France\n",
       "6132                      NaN\n",
       "6133               Europe Jet\n",
       "6134                   COBALT\n",
       "6135          Sun Air Express\n",
       "6136                      NaN\n",
       "6137                      NaN\n",
       "6138                      NaN\n",
       "6139              World Scale\n",
       "6140           All America US\n",
       "6141                 8AEF RAF\n",
       "6142                      NaN\n",
       "6143                      NaN\n",
       "6144                BudgetAir\n",
       "6145                      NaN\n",
       "6146                  Fly One\n",
       "6147                      NaN\n",
       "6148                      NaN\n",
       "6149                      NaN\n",
       "6150                      NaN\n",
       "6151    Charter Air Transport\n",
       "6152         All America BOPY\n",
       "6153                      NaN\n",
       "6154                      NaN\n",
       "6155                      TDA\n",
       "6156                      NaN\n",
       "6157                      NaN\n",
       "6158                      NaN\n",
       "6159                      NaN\n",
       "6160        Russian Commuter \n",
       "Name: IATA, Length: 6160, dtype: object"
      ]
     },
     "execution_count": 152,
     "metadata": {},
     "output_type": "execute_result"
    }
   ],
   "source": [
    "airlines['IATA'].replace({None: airlines['Icao Code'].astype(str).str[0:2]}, inplace=True)"
   ]
  },
  {
   "cell_type": "code",
   "execution_count": null,
   "metadata": {},
   "outputs": [],
   "source": [
    "\n"
   ]
  },
  {
   "cell_type": "code",
   "execution_count": null,
   "metadata": {},
   "outputs": [],
   "source": [
    "df.loc[df['foo'].isnull(),'foo'] = df['bar']"
   ]
  },
  {
   "cell_type": "code",
   "execution_count": 35,
   "metadata": {},
   "outputs": [
    {
     "data": {
      "text/plain": [
       "(6160, 6)"
      ]
     },
     "execution_count": 35,
     "metadata": {},
     "output_type": "execute_result"
    }
   ],
   "source": [
    "airlines.shape"
   ]
  },
  {
   "cell_type": "code",
   "execution_count": 60,
   "metadata": {},
   "outputs": [
    {
     "name": "stdout",
     "output_type": "stream",
     "text": [
      "1\n",
      "(6160, 6)\n"
     ]
    },
    {
     "data": {
      "text/plain": [
       "Airline        0\n",
       "IATA         506\n",
       "Icao Code    273\n",
       "Callsign     807\n",
       "Country       14\n",
       "Active         0\n",
       "dtype: int64"
      ]
     },
     "execution_count": 60,
     "metadata": {},
     "output_type": "execute_result"
    }
   ],
   "source": [
    "print(len(airlines)-len(airlines.drop_duplicates()))\n",
    "print(airlines.shape)\n",
    "airlines.isnull().sum()"
   ]
  },
  {
   "cell_type": "code",
   "execution_count": 37,
   "metadata": {},
   "outputs": [
    {
     "data": {
      "text/plain": [
       "(3606803, 15)"
      ]
     },
     "execution_count": 37,
     "metadata": {},
     "output_type": "execute_result"
    }
   ],
   "source": [
    "airports_full = pd.read_csv('Airports2.csv')\n",
    "airports_full.shape"
   ]
  },
  {
   "cell_type": "code",
   "execution_count": 153,
   "metadata": {},
   "outputs": [
    {
     "data": {
      "text/html": [
       "<div>\n",
       "<style scoped>\n",
       "    .dataframe tbody tr th:only-of-type {\n",
       "        vertical-align: middle;\n",
       "    }\n",
       "\n",
       "    .dataframe tbody tr th {\n",
       "        vertical-align: top;\n",
       "    }\n",
       "\n",
       "    .dataframe thead th {\n",
       "        text-align: right;\n",
       "    }\n",
       "</style>\n",
       "<table border=\"1\" class=\"dataframe\">\n",
       "  <thead>\n",
       "    <tr style=\"text-align: right;\">\n",
       "      <th></th>\n",
       "      <th>Origin_airport</th>\n",
       "      <th>Destination_airport</th>\n",
       "      <th>Origin_city</th>\n",
       "      <th>Destination_city</th>\n",
       "      <th>Passengers</th>\n",
       "      <th>Seats</th>\n",
       "      <th>Flights</th>\n",
       "      <th>Distance</th>\n",
       "      <th>Fly_date</th>\n",
       "      <th>Origin_population</th>\n",
       "      <th>Destination_population</th>\n",
       "      <th>Org_airport_lat</th>\n",
       "      <th>Org_airport_long</th>\n",
       "      <th>Dest_airport_lat</th>\n",
       "      <th>Dest_airport_long</th>\n",
       "    </tr>\n",
       "  </thead>\n",
       "  <tbody>\n",
       "    <tr>\n",
       "      <th>3584904</th>\n",
       "      <td>DTW</td>\n",
       "      <td>PBI</td>\n",
       "      <td>Detroit, MI</td>\n",
       "      <td>West Palm Beach, FL</td>\n",
       "      <td>768</td>\n",
       "      <td>900</td>\n",
       "      <td>9</td>\n",
       "      <td>1087</td>\n",
       "      <td>1995-07-01</td>\n",
       "      <td>8837982</td>\n",
       "      <td>4456964</td>\n",
       "      <td>42.212399</td>\n",
       "      <td>-83.353401</td>\n",
       "      <td>26.683201</td>\n",
       "      <td>-80.095596</td>\n",
       "    </tr>\n",
       "    <tr>\n",
       "      <th>54646</th>\n",
       "      <td>MCO</td>\n",
       "      <td>MIA</td>\n",
       "      <td>Orlando, FL</td>\n",
       "      <td>Miami, FL</td>\n",
       "      <td>952</td>\n",
       "      <td>4526</td>\n",
       "      <td>31</td>\n",
       "      <td>193</td>\n",
       "      <td>1992-01-01</td>\n",
       "      <td>1303224</td>\n",
       "      <td>8451688</td>\n",
       "      <td>28.429399</td>\n",
       "      <td>-81.308998</td>\n",
       "      <td>25.793200</td>\n",
       "      <td>-80.290604</td>\n",
       "    </tr>\n",
       "    <tr>\n",
       "      <th>3117561</th>\n",
       "      <td>MIA</td>\n",
       "      <td>MSP</td>\n",
       "      <td>Miami, FL</td>\n",
       "      <td>Minneapolis, MN</td>\n",
       "      <td>3212</td>\n",
       "      <td>4440</td>\n",
       "      <td>30</td>\n",
       "      <td>1501</td>\n",
       "      <td>2005-08-01</td>\n",
       "      <td>10886318</td>\n",
       "      <td>3132772</td>\n",
       "      <td>25.793200</td>\n",
       "      <td>-80.290604</td>\n",
       "      <td>44.882000</td>\n",
       "      <td>-93.221802</td>\n",
       "    </tr>\n",
       "  </tbody>\n",
       "</table>\n",
       "</div>"
      ],
      "text/plain": [
       "        Origin_airport Destination_airport  Origin_city     Destination_city  \\\n",
       "3584904            DTW                 PBI  Detroit, MI  West Palm Beach, FL   \n",
       "54646              MCO                 MIA  Orlando, FL            Miami, FL   \n",
       "3117561            MIA                 MSP    Miami, FL      Minneapolis, MN   \n",
       "\n",
       "         Passengers  Seats  Flights  Distance    Fly_date  Origin_population  \\\n",
       "3584904         768    900        9      1087  1995-07-01            8837982   \n",
       "54646           952   4526       31       193  1992-01-01            1303224   \n",
       "3117561        3212   4440       30      1501  2005-08-01           10886318   \n",
       "\n",
       "         Destination_population  Org_airport_lat  Org_airport_long  \\\n",
       "3584904                 4456964        42.212399        -83.353401   \n",
       "54646                   8451688        28.429399        -81.308998   \n",
       "3117561                 3132772        25.793200        -80.290604   \n",
       "\n",
       "         Dest_airport_lat  Dest_airport_long  \n",
       "3584904         26.683201         -80.095596  \n",
       "54646           25.793200         -80.290604  \n",
       "3117561         44.882000         -93.221802  "
      ]
     },
     "execution_count": 153,
     "metadata": {},
     "output_type": "execute_result"
    }
   ],
   "source": [
    "airports_full.sample(3)\n",
    "# Airports and places info and amount of passengers\n",
    "# Need Info about Airport - Name"
   ]
  },
  {
   "cell_type": "code",
   "execution_count": 53,
   "metadata": {},
   "outputs": [
    {
     "name": "stdout",
     "output_type": "stream",
     "text": [
      "0\n",
      "(3565050, 15)\n"
     ]
    },
    {
     "data": {
      "text/plain": [
       "Origin_airport               0\n",
       "Destination_airport          0\n",
       "Origin_city                  0\n",
       "Destination_city             0\n",
       "Passengers                   0\n",
       "Seats                        0\n",
       "Flights                      0\n",
       "Distance                     0\n",
       "Fly_date                     0\n",
       "Origin_population            0\n",
       "Destination_population       0\n",
       "Org_airport_lat           6584\n",
       "Org_airport_long          6584\n",
       "Dest_airport_lat          6495\n",
       "Dest_airport_long         6495\n",
       "dtype: int64"
      ]
     },
     "execution_count": 53,
     "metadata": {},
     "output_type": "execute_result"
    }
   ],
   "source": [
    "print(len(airports_full)-len(airports_full.drop_duplicates()))\n",
    "print(airports_full.shape)\n",
    "airports_full.isnull().sum()"
   ]
  },
  {
   "cell_type": "code",
   "execution_count": 52,
   "metadata": {},
   "outputs": [],
   "source": [
    "airports_full=airports_full.drop_duplicates()"
   ]
  },
  {
   "cell_type": "code",
   "execution_count": 9,
   "metadata": {},
   "outputs": [],
   "source": [
    "#airports_dafif = pd.read_csv('airports.dat', sep=',')\n",
    "#airports_dafif.sample(3)"
   ]
  },
  {
   "cell_type": "code",
   "execution_count": 10,
   "metadata": {},
   "outputs": [],
   "source": [
    "#airports_dafif.shape"
   ]
  },
  {
   "cell_type": "code",
   "execution_count": 40,
   "metadata": {},
   "outputs": [],
   "source": [
    "planes = pd.read_csv('planes.dat', sep = ',')"
   ]
  },
  {
   "cell_type": "code",
   "execution_count": 41,
   "metadata": {},
   "outputs": [
    {
     "data": {
      "text/html": [
       "<div>\n",
       "<style scoped>\n",
       "    .dataframe tbody tr th:only-of-type {\n",
       "        vertical-align: middle;\n",
       "    }\n",
       "\n",
       "    .dataframe tbody tr th {\n",
       "        vertical-align: top;\n",
       "    }\n",
       "\n",
       "    .dataframe thead th {\n",
       "        text-align: right;\n",
       "    }\n",
       "</style>\n",
       "<table border=\"1\" class=\"dataframe\">\n",
       "  <thead>\n",
       "    <tr style=\"text-align: right;\">\n",
       "      <th></th>\n",
       "      <th>Aerospatiale (Nord) 262</th>\n",
       "      <th>ND2</th>\n",
       "      <th>N262</th>\n",
       "    </tr>\n",
       "  </thead>\n",
       "  <tbody>\n",
       "    <tr>\n",
       "      <th>221</th>\n",
       "      <td>Pilatus PC-12</td>\n",
       "      <td>PL2</td>\n",
       "      <td>PC12</td>\n",
       "    </tr>\n",
       "    <tr>\n",
       "      <th>48</th>\n",
       "      <td>BAe 146</td>\n",
       "      <td>146</td>\n",
       "      <td>\\N</td>\n",
       "    </tr>\n",
       "    <tr>\n",
       "      <th>195</th>\n",
       "      <td>Gulfstream/Rockwell (Aero) Turbo Commander</td>\n",
       "      <td>ACT</td>\n",
       "      <td>AC90</td>\n",
       "    </tr>\n",
       "  </tbody>\n",
       "</table>\n",
       "</div>"
      ],
      "text/plain": [
       "                        Aerospatiale (Nord) 262  ND2  N262\n",
       "221                               Pilatus PC-12  PL2  PC12\n",
       "48                                      BAe 146  146    \\N\n",
       "195  Gulfstream/Rockwell (Aero) Turbo Commander  ACT  AC90"
      ]
     },
     "execution_count": 41,
     "metadata": {},
     "output_type": "execute_result"
    }
   ],
   "source": [
    "planes.sample(3)"
   ]
  },
  {
   "cell_type": "code",
   "execution_count": 42,
   "metadata": {},
   "outputs": [
    {
     "data": {
      "text/plain": [
       "(245, 3)"
      ]
     },
     "execution_count": 42,
     "metadata": {},
     "output_type": "execute_result"
    }
   ],
   "source": [
    "planes.shape"
   ]
  },
  {
   "cell_type": "code",
   "execution_count": 43,
   "metadata": {},
   "outputs": [
    {
     "name": "stdout",
     "output_type": "stream",
     "text": [
      "0\n",
      "(245, 3)\n"
     ]
    },
    {
     "data": {
      "text/plain": [
       "Aerospatiale (Nord) 262    0\n",
       "ND2                        0\n",
       "N262                       0\n",
       "dtype: int64"
      ]
     },
     "execution_count": 43,
     "metadata": {},
     "output_type": "execute_result"
    }
   ],
   "source": [
    "print(len(planes)-len(planes.drop_duplicates()))\n",
    "print(planes.shape)\n",
    "planes.isnull().sum()"
   ]
  },
  {
   "cell_type": "code",
   "execution_count": 85,
   "metadata": {},
   "outputs": [],
   "source": [
    "#routes = pd.read_csv('routes.dat', sep=',')"
   ]
  },
  {
   "cell_type": "code",
   "execution_count": 11,
   "metadata": {},
   "outputs": [],
   "source": [
    "#routes.sample(3)"
   ]
  },
  {
   "cell_type": "code",
   "execution_count": 12,
   "metadata": {},
   "outputs": [],
   "source": [
    "#routes.shape"
   ]
  },
  {
   "cell_type": "code",
   "execution_count": 88,
   "metadata": {},
   "outputs": [],
   "source": [
    "#countries = pd.read_csv('countries.dat', sep=',')"
   ]
  },
  {
   "cell_type": "code",
   "execution_count": 13,
   "metadata": {},
   "outputs": [],
   "source": [
    "#countries.sample(3)"
   ]
  },
  {
   "cell_type": "code",
   "execution_count": 91,
   "metadata": {},
   "outputs": [],
   "source": [
    "#flights_kaggle = pd.read_csv('flights-kaggle.csv')"
   ]
  },
  {
   "cell_type": "code",
   "execution_count": 14,
   "metadata": {},
   "outputs": [],
   "source": [
    "#flights_kaggle.shape"
   ]
  },
  {
   "cell_type": "code",
   "execution_count": 15,
   "metadata": {},
   "outputs": [],
   "source": [
    "#flights_kaggle.sample(3)"
   ]
  },
  {
   "cell_type": "code",
   "execution_count": 16,
   "metadata": {},
   "outputs": [],
   "source": [
    "#airports_kaggle = pd.read_csv('airports-kaggle.csv')\n",
    "#airports_kaggle.shape"
   ]
  },
  {
   "cell_type": "code",
   "execution_count": 95,
   "metadata": {},
   "outputs": [
    {
     "data": {
      "text/html": [
       "<div>\n",
       "<style scoped>\n",
       "    .dataframe tbody tr th:only-of-type {\n",
       "        vertical-align: middle;\n",
       "    }\n",
       "\n",
       "    .dataframe tbody tr th {\n",
       "        vertical-align: top;\n",
       "    }\n",
       "\n",
       "    .dataframe thead th {\n",
       "        text-align: right;\n",
       "    }\n",
       "</style>\n",
       "<table border=\"1\" class=\"dataframe\">\n",
       "  <thead>\n",
       "    <tr style=\"text-align: right;\">\n",
       "      <th></th>\n",
       "      <th>airport_id</th>\n",
       "      <th>city</th>\n",
       "      <th>state</th>\n",
       "      <th>name</th>\n",
       "    </tr>\n",
       "  </thead>\n",
       "  <tbody>\n",
       "    <tr>\n",
       "      <th>81</th>\n",
       "      <td>11278</td>\n",
       "      <td>Washington</td>\n",
       "      <td>DC</td>\n",
       "      <td>Ronald Reagan Washington National</td>\n",
       "    </tr>\n",
       "    <tr>\n",
       "      <th>235</th>\n",
       "      <td>14570</td>\n",
       "      <td>Reno</td>\n",
       "      <td>NV</td>\n",
       "      <td>Reno/Tahoe International</td>\n",
       "    </tr>\n",
       "    <tr>\n",
       "      <th>124</th>\n",
       "      <td>10268</td>\n",
       "      <td>Waterloo</td>\n",
       "      <td>IA</td>\n",
       "      <td>Waterloo Regional</td>\n",
       "    </tr>\n",
       "  </tbody>\n",
       "</table>\n",
       "</div>"
      ],
      "text/plain": [
       "     airport_id        city state                               name\n",
       "81        11278  Washington    DC  Ronald Reagan Washington National\n",
       "235       14570        Reno    NV           Reno/Tahoe International\n",
       "124       10268    Waterloo    IA                  Waterloo Regional"
      ]
     },
     "execution_count": 95,
     "metadata": {},
     "output_type": "execute_result"
    }
   ],
   "source": [
    "airports_kaggle.sample(3)"
   ]
  },
  {
   "cell_type": "code",
   "execution_count": 25,
   "metadata": {},
   "outputs": [],
   "source": [
    "#import io\n",
    "\n",
    "#pd.read_csv(io.StringIO('Airline Codes.txt'), delimiter='\\t',header=None)"
   ]
  },
  {
   "cell_type": "code",
   "execution_count": 86,
   "metadata": {},
   "outputs": [
    {
     "data": {
      "text/html": [
       "<div>\n",
       "<style scoped>\n",
       "    .dataframe tbody tr th:only-of-type {\n",
       "        vertical-align: middle;\n",
       "    }\n",
       "\n",
       "    .dataframe tbody tr th {\n",
       "        vertical-align: top;\n",
       "    }\n",
       "\n",
       "    .dataframe thead th {\n",
       "        text-align: right;\n",
       "    }\n",
       "</style>\n",
       "<table border=\"1\" class=\"dataframe\">\n",
       "  <thead>\n",
       "    <tr style=\"text-align: right;\">\n",
       "      <th></th>\n",
       "      <th>Carrier Name</th>\n",
       "      <th>IATA</th>\n",
       "      <th>ICAO</th>\n",
       "    </tr>\n",
       "  </thead>\n",
       "  <tbody>\n",
       "    <tr>\n",
       "      <th>367</th>\n",
       "      <td>GB Airways Ltd.                     ...</td>\n",
       "      <td>NaN</td>\n",
       "      <td>NaN</td>\n",
       "    </tr>\n",
       "    <tr>\n",
       "      <th>25</th>\n",
       "      <td>Aerocaribbean S.A.                  ...</td>\n",
       "      <td>NaN</td>\n",
       "      <td>NaN</td>\n",
       "    </tr>\n",
       "    <tr>\n",
       "      <th>809</th>\n",
       "      <td>Voyager Airlines Ltd                ...</td>\n",
       "      <td>NaN</td>\n",
       "      <td>NaN</td>\n",
       "    </tr>\n",
       "  </tbody>\n",
       "</table>\n",
       "</div>"
      ],
      "text/plain": [
       "                                          Carrier Name  IATA  ICAO\n",
       "367            GB Airways Ltd.                     ...   NaN   NaN\n",
       "25             Aerocaribbean S.A.                  ...   NaN   NaN\n",
       "809            Voyager Airlines Ltd                ...   NaN   NaN"
      ]
     },
     "execution_count": 86,
     "metadata": {},
     "output_type": "execute_result"
    }
   ],
   "source": [
    "import sys\n",
    "import pandas as pd\n",
    "#https://www.census.gov/foreign-trade/reference/codes/aircarrier/acname.txt\n",
    "\n",
    "Ariline_codes = pd.read_csv('Airline Codes.txt', sep='\\t', engine='python', names=[\"Carrier Name\", \"IATA\", \"ICAO\"])\n",
    "Ariline_codes.sample(3)\n",
    "#https://stackoverflow.com/questions/18039057/python-pandas-error-tokenizing-data\n",
    "#https://stackoverflow.com/questions/21546739/load-data-from-txt-with-pandas\n",
    "#data = pd.read_csv('file1.csv', error_bad_lines=False)"
   ]
  },
  {
   "cell_type": "code",
   "execution_count": 87,
   "metadata": {},
   "outputs": [],
   "source": [
    "#dff[\"ICAO\"]=dff[\"Carrier Name\"].str[-3:]\n",
    "Ariline_codes['ICAO'] = Ariline_codes['Carrier Name'].str.strip().str[-3:]"
   ]
  },
  {
   "cell_type": "code",
   "execution_count": 89,
   "metadata": {},
   "outputs": [],
   "source": [
    "#dff[\"Carrier Name\"] = dff[\"Carrier Name\"].str[:-2]\n",
    "Ariline_codes = Ariline_codes.iloc[1:]"
   ]
  },
  {
   "cell_type": "code",
   "execution_count": 90,
   "metadata": {},
   "outputs": [],
   "source": [
    "Ariline_codes[\"IATA\"]=Ariline_codes[\"Carrier Name\"].str[-23:-10]"
   ]
  },
  {
   "cell_type": "code",
   "execution_count": 91,
   "metadata": {},
   "outputs": [],
   "source": [
    "Ariline_codes[\"IATA\"]=Ariline_codes[\"IATA\"].str.replace(' ','')\n",
    "#https://stackoverflow.com/questions/41476150/removing-space-from-dataframe-columns-in-pandas"
   ]
  },
  {
   "cell_type": "code",
   "execution_count": 92,
   "metadata": {},
   "outputs": [],
   "source": [
    "Ariline_codes[\"Carrier Name\"]=Ariline_codes[\"Carrier Name\"].str[:-24]"
   ]
  },
  {
   "cell_type": "code",
   "execution_count": 101,
   "metadata": {},
   "outputs": [],
   "source": [
    "Ariline_codes[\"Carrier Name\"]=Ariline_codes[\"Carrier Name\"].str.lstrip()"
   ]
  },
  {
   "cell_type": "code",
   "execution_count": 102,
   "metadata": {},
   "outputs": [
    {
     "data": {
      "text/html": [
       "<div>\n",
       "<style scoped>\n",
       "    .dataframe tbody tr th:only-of-type {\n",
       "        vertical-align: middle;\n",
       "    }\n",
       "\n",
       "    .dataframe tbody tr th {\n",
       "        vertical-align: top;\n",
       "    }\n",
       "\n",
       "    .dataframe thead th {\n",
       "        text-align: right;\n",
       "    }\n",
       "</style>\n",
       "<table border=\"1\" class=\"dataframe\">\n",
       "  <thead>\n",
       "    <tr style=\"text-align: right;\">\n",
       "      <th></th>\n",
       "      <th>Carrier Name</th>\n",
       "      <th>IATA</th>\n",
       "      <th>ICAO</th>\n",
       "    </tr>\n",
       "  </thead>\n",
       "  <tbody>\n",
       "    <tr>\n",
       "      <th>1</th>\n",
       "      <td>40-Mile Air, Ltd.</td>\n",
       "      <td>Q5</td>\n",
       "      <td>MLA</td>\n",
       "    </tr>\n",
       "    <tr>\n",
       "      <th>2</th>\n",
       "      <td>ABC Aerolineas S.A. de C.V.</td>\n",
       "      <td>4O</td>\n",
       "      <td>AIJ</td>\n",
       "    </tr>\n",
       "    <tr>\n",
       "      <th>3</th>\n",
       "      <td>ABSA  -  Aerolinhas Brasileiras S.A.</td>\n",
       "      <td>M3</td>\n",
       "      <td>TUS</td>\n",
       "    </tr>\n",
       "  </tbody>\n",
       "</table>\n",
       "</div>"
      ],
      "text/plain": [
       "                              Carrier Name IATA ICAO\n",
       "1  40-Mile Air, Ltd.                         Q5  MLA\n",
       "2  ABC Aerolineas S.A. de C.V.               4O  AIJ\n",
       "3  ABSA  -  Aerolinhas Brasileiras S.A.      M3  TUS"
      ]
     },
     "execution_count": 102,
     "metadata": {},
     "output_type": "execute_result"
    }
   ],
   "source": [
    "Ariline_codes.head(3)"
   ]
  },
  {
   "cell_type": "code",
   "execution_count": 113,
   "metadata": {},
   "outputs": [
    {
     "data": {
      "text/html": [
       "<div>\n",
       "<style scoped>\n",
       "    .dataframe tbody tr th:only-of-type {\n",
       "        vertical-align: middle;\n",
       "    }\n",
       "\n",
       "    .dataframe tbody tr th {\n",
       "        vertical-align: top;\n",
       "    }\n",
       "\n",
       "    .dataframe thead th {\n",
       "        text-align: right;\n",
       "    }\n",
       "</style>\n",
       "<table border=\"1\" class=\"dataframe\">\n",
       "  <thead>\n",
       "    <tr style=\"text-align: right;\">\n",
       "      <th></th>\n",
       "      <th>Carrier Name</th>\n",
       "      <th>IATA</th>\n",
       "      <th>ICAO</th>\n",
       "    </tr>\n",
       "  </thead>\n",
       "  <tbody>\n",
       "  </tbody>\n",
       "</table>\n",
       "</div>"
      ],
      "text/plain": [
       "Empty DataFrame\n",
       "Columns: [Carrier Name, IATA, ICAO]\n",
       "Index: []"
      ]
     },
     "execution_count": 113,
     "metadata": {},
     "output_type": "execute_result"
    }
   ],
   "source": [
    "Ariline_codes.loc[Ariline_codes['IATA'] == 'JG']"
   ]
  },
  {
   "cell_type": "code",
   "execution_count": 114,
   "metadata": {},
   "outputs": [
    {
     "data": {
      "text/plain": [
       "(836, 3)"
      ]
     },
     "execution_count": 114,
     "metadata": {},
     "output_type": "execute_result"
    }
   ],
   "source": [
    "Ariline_codes.shape"
   ]
  },
  {
   "cell_type": "code",
   "execution_count": 76,
   "metadata": {},
   "outputs": [
    {
     "name": "stdout",
     "output_type": "stream",
     "text": [
      "0\n",
      "(837, 3)\n"
     ]
    },
    {
     "data": {
      "text/plain": [
       "Carrier Name    0\n",
       "IATA            0\n",
       "ICAO            0\n",
       "dtype: int64"
      ]
     },
     "execution_count": 76,
     "metadata": {},
     "output_type": "execute_result"
    }
   ],
   "source": [
    "print(len(Ariline_codes)-len(Ariline_codes.drop_duplicates()))\n",
    "print(Ariline_codes.shape)\n",
    "Ariline_codes.isnull().sum()"
   ]
  },
  {
   "cell_type": "code",
   "execution_count": 63,
   "metadata": {},
   "outputs": [],
   "source": [
    "Air_Carrier_Time=pd.read_csv('2020 Airport Data.csv')"
   ]
  },
  {
   "cell_type": "code",
   "execution_count": 64,
   "metadata": {},
   "outputs": [
    {
     "data": {
      "text/html": [
       "<div>\n",
       "<style scoped>\n",
       "    .dataframe tbody tr th:only-of-type {\n",
       "        vertical-align: middle;\n",
       "    }\n",
       "\n",
       "    .dataframe tbody tr th {\n",
       "        vertical-align: top;\n",
       "    }\n",
       "\n",
       "    .dataframe thead th {\n",
       "        text-align: right;\n",
       "    }\n",
       "</style>\n",
       "<table border=\"1\" class=\"dataframe\">\n",
       "  <thead>\n",
       "    <tr style=\"text-align: right;\">\n",
       "      <th></th>\n",
       "      <th>PASSENGERS</th>\n",
       "      <th>FREIGHT</th>\n",
       "      <th>MAIL</th>\n",
       "      <th>DISTANCE</th>\n",
       "      <th>UNIQUE_CARRIER</th>\n",
       "      <th>AIRLINE_ID</th>\n",
       "      <th>UNIQUE_CARRIER_NAME</th>\n",
       "      <th>UNIQUE_CARRIER_ENTITY</th>\n",
       "      <th>REGION</th>\n",
       "      <th>CARRIER</th>\n",
       "      <th>...</th>\n",
       "      <th>DEST_STATE_ABR</th>\n",
       "      <th>DEST_STATE_FIPS</th>\n",
       "      <th>DEST_STATE_NM</th>\n",
       "      <th>DEST_WAC</th>\n",
       "      <th>YEAR</th>\n",
       "      <th>QUARTER</th>\n",
       "      <th>MONTH</th>\n",
       "      <th>DISTANCE_GROUP</th>\n",
       "      <th>CLASS</th>\n",
       "      <th>Unnamed: 36</th>\n",
       "    </tr>\n",
       "  </thead>\n",
       "  <tbody>\n",
       "    <tr>\n",
       "      <th>64390</th>\n",
       "      <td>892.0</td>\n",
       "      <td>0.0</td>\n",
       "      <td>0.0</td>\n",
       "      <td>461.0</td>\n",
       "      <td>MQ</td>\n",
       "      <td>20398</td>\n",
       "      <td>Envoy Air</td>\n",
       "      <td>06820</td>\n",
       "      <td>D</td>\n",
       "      <td>MQ</td>\n",
       "      <td>...</td>\n",
       "      <td>NY</td>\n",
       "      <td>36</td>\n",
       "      <td>New York</td>\n",
       "      <td>22</td>\n",
       "      <td>2020</td>\n",
       "      <td>1</td>\n",
       "      <td>3</td>\n",
       "      <td>1</td>\n",
       "      <td>F</td>\n",
       "      <td>NaN</td>\n",
       "    </tr>\n",
       "    <tr>\n",
       "      <th>57711</th>\n",
       "      <td>445.0</td>\n",
       "      <td>0.0</td>\n",
       "      <td>0.0</td>\n",
       "      <td>583.0</td>\n",
       "      <td>G4</td>\n",
       "      <td>20368</td>\n",
       "      <td>Allegiant Air</td>\n",
       "      <td>06035</td>\n",
       "      <td>D</td>\n",
       "      <td>G4</td>\n",
       "      <td>...</td>\n",
       "      <td>NJ</td>\n",
       "      <td>34</td>\n",
       "      <td>New Jersey</td>\n",
       "      <td>21</td>\n",
       "      <td>2020</td>\n",
       "      <td>2</td>\n",
       "      <td>6</td>\n",
       "      <td>2</td>\n",
       "      <td>F</td>\n",
       "      <td>NaN</td>\n",
       "    </tr>\n",
       "    <tr>\n",
       "      <th>84539</th>\n",
       "      <td>3461.0</td>\n",
       "      <td>1.0</td>\n",
       "      <td>0.0</td>\n",
       "      <td>1652.0</td>\n",
       "      <td>AA</td>\n",
       "      <td>19805</td>\n",
       "      <td>American Airlines Inc.</td>\n",
       "      <td>0A050</td>\n",
       "      <td>D</td>\n",
       "      <td>AA</td>\n",
       "      <td>...</td>\n",
       "      <td>CA</td>\n",
       "      <td>6</td>\n",
       "      <td>California</td>\n",
       "      <td>91</td>\n",
       "      <td>2020</td>\n",
       "      <td>1</td>\n",
       "      <td>3</td>\n",
       "      <td>4</td>\n",
       "      <td>F</td>\n",
       "      <td>NaN</td>\n",
       "    </tr>\n",
       "  </tbody>\n",
       "</table>\n",
       "<p>3 rows × 37 columns</p>\n",
       "</div>"
      ],
      "text/plain": [
       "       PASSENGERS  FREIGHT  MAIL  DISTANCE UNIQUE_CARRIER  AIRLINE_ID  \\\n",
       "64390       892.0      0.0   0.0     461.0             MQ       20398   \n",
       "57711       445.0      0.0   0.0     583.0             G4       20368   \n",
       "84539      3461.0      1.0   0.0    1652.0             AA       19805   \n",
       "\n",
       "          UNIQUE_CARRIER_NAME UNIQUE_CARRIER_ENTITY REGION CARRIER  ...  \\\n",
       "64390               Envoy Air                 06820      D      MQ  ...   \n",
       "57711           Allegiant Air                 06035      D      G4  ...   \n",
       "84539  American Airlines Inc.                 0A050      D      AA  ...   \n",
       "\n",
       "      DEST_STATE_ABR  DEST_STATE_FIPS  DEST_STATE_NM  DEST_WAC  YEAR  QUARTER  \\\n",
       "64390             NY               36       New York        22  2020        1   \n",
       "57711             NJ               34     New Jersey        21  2020        2   \n",
       "84539             CA                6     California        91  2020        1   \n",
       "\n",
       "      MONTH DISTANCE_GROUP CLASS  Unnamed: 36  \n",
       "64390     3              1     F          NaN  \n",
       "57711     6              2     F          NaN  \n",
       "84539     3              4     F          NaN  \n",
       "\n",
       "[3 rows x 37 columns]"
      ]
     },
     "execution_count": 64,
     "metadata": {},
     "output_type": "execute_result"
    }
   ],
   "source": [
    "Air_Carrier_Time.sample(3)"
   ]
  },
  {
   "cell_type": "code",
   "execution_count": 68,
   "metadata": {},
   "outputs": [],
   "source": [
    "#dropping Last Column Since It Is not Important and contains only NULL values\n",
    "Air_Carrier_Time = Air_Carrier_Time.drop(Air_Carrier_Time.columns[-1], axis=1)"
   ]
  },
  {
   "cell_type": "code",
   "execution_count": 69,
   "metadata": {},
   "outputs": [
    {
     "name": "stdout",
     "output_type": "stream",
     "text": [
      "0\n",
      "(98962, 36)\n"
     ]
    },
    {
     "data": {
      "text/plain": [
       "PASSENGERS               0\n",
       "FREIGHT                  0\n",
       "MAIL                     0\n",
       "DISTANCE                 0\n",
       "UNIQUE_CARRIER           0\n",
       "AIRLINE_ID               0\n",
       "UNIQUE_CARRIER_NAME      0\n",
       "UNIQUE_CARRIER_ENTITY    0\n",
       "REGION                   0\n",
       "CARRIER                  0\n",
       "CARRIER_NAME             0\n",
       "CARRIER_GROUP            0\n",
       "CARRIER_GROUP_NEW        0\n",
       "ORIGIN_AIRPORT_ID        0\n",
       "ORIGIN_AIRPORT_SEQ_ID    0\n",
       "ORIGIN_CITY_MARKET_ID    0\n",
       "ORIGIN                   0\n",
       "ORIGIN_CITY_NAME         0\n",
       "ORIGIN_STATE_ABR         0\n",
       "ORIGIN_STATE_FIPS        0\n",
       "ORIGIN_STATE_NM          0\n",
       "ORIGIN_WAC               0\n",
       "DEST_AIRPORT_ID          0\n",
       "DEST_AIRPORT_SEQ_ID      0\n",
       "DEST_CITY_MARKET_ID      0\n",
       "DEST                     0\n",
       "DEST_CITY_NAME           0\n",
       "DEST_STATE_ABR           0\n",
       "DEST_STATE_FIPS          0\n",
       "DEST_STATE_NM            0\n",
       "DEST_WAC                 0\n",
       "YEAR                     0\n",
       "QUARTER                  0\n",
       "MONTH                    0\n",
       "DISTANCE_GROUP           0\n",
       "CLASS                    0\n",
       "dtype: int64"
      ]
     },
     "execution_count": 69,
     "metadata": {},
     "output_type": "execute_result"
    }
   ],
   "source": [
    "print(len(Air_Carrier_Time)-len(Air_Carrier_Time.drop_duplicates()))\n",
    "print(Air_Carrier_Time.shape)\n",
    "Air_Carrier_Time.isnull().sum()"
   ]
  },
  {
   "cell_type": "code",
   "execution_count": null,
   "metadata": {},
   "outputs": [],
   "source": [
    "#https://www.transtats.bts.gov/DL_SelectFields.asp"
   ]
  },
  {
   "cell_type": "code",
   "execution_count": null,
   "metadata": {},
   "outputs": [],
   "source": [
    "df.to_csv('s3://experimental/playground/temp_csv/dummy.csv', index=False)"
   ]
  },
  {
   "cell_type": "code",
   "execution_count": null,
   "metadata": {},
   "outputs": [],
   "source": []
  },
  {
   "cell_type": "code",
   "execution_count": null,
   "metadata": {},
   "outputs": [],
   "source": [
    "Tables:\n",
    "    Fact: Airport Information - Airport Name,State,City, CountryIATA,\n",
    "        Dimension: Airlines - Airline Name, IATA, ICAO, Country, Active\n",
    "                   Airport_Description - Airport Name, Airport Abbreviation, Latitude, Longitue, City, State, Country, Airport_Type, iso_country, iso_region, eleveation\n",
    "                   Airport_Flights_2020 - Airport Name Dest, Airport Name Arr, IATA, Airline Name, Num Passengers, Year, Month\n",
    "                   Population - Airport Name, Population\n",
    "                   Past Flights - Airport Name Deset, Airport Name Arr, Date, Passengers, Seats, Distance"
   ]
  },
  {
   "cell_type": "code",
   "execution_count": null,
   "metadata": {},
   "outputs": [],
   "source": [
    "# Writing to S3\n",
    "writing_tables_to_S3 = [airports_with_description_toS3, airport_countries_toS3, airlines_and_countries_toS3, airports_past_flights_toS3, flights_2020_toS3, airline_codes_toS3]\n",
    "copy_tables_from_S3toRedshift = [airports_with_description_copying, airport_countries_copying, airlines_and_countries_copying, airports_past_flights_copying, ariline_codes_copying, flights_2020_copying]\n",
    "\n",
    "creating_tables = [airports_creating_table, airlines_creating_table, airport_description_creating_table, airport_flights_2020_creating_table, population_creating_table, past_flights_creating_table,airports_with_description_creating_table,airport_countries_creating_table,airlines_and_countries_creating_table,airports_past_flights_creating_table,ariline_codes_table,flights_2020_creating_table]\n",
    "dropping_tables_if_exist = [airports_drop_table, airlines_drop_table, airport_description_drop_table, airport_flights_2020_drop_table, population_drop_table, past_flights_drop_table, airports_with_description_drop_table,airport_countries_drop_table,airlines_and_countries_drop_table,airports_past_flights_drop_table,ariline_codes_drop_table,flights_2020_drop_table]\n",
    "insert_data_in_tables = [airports_insert_table, airlines_insert_table, airport_description_insert_table, airport_flights_2020_insert_table, population_insert_table, past_flights_insert_table]\n",
    "\n"
   ]
  },
  {
   "cell_type": "code",
   "execution_count": null,
   "metadata": {},
   "outputs": [],
   "source": [
    "airports, airlines, airport_description, airport_flights_2020,population, past_flights"
   ]
  },
  {
   "cell_type": "code",
   "execution_count": 156,
   "metadata": {},
   "outputs": [],
   "source": [
    "airports_drop_table = \"DROP TABLE IF EXISTS airports;\"\n",
    "airlines_drop_table = \"DROP TABLE IF EXISTS airlines;\"\n",
    "airport_description_drop_table = \"DROP TABLE IF EXISTS airport_description;\"\n",
    "airport_flights_2020_drop_table = \"DROP TABLE IF EXISTS airport_flights_2020;\"\n",
    "population_drop_table = \"DROP TABLE IF EXISTS population;\"\n",
    "past_flights_drop_table = \"DROP TABLE IF EXISTS past_flights;\"\n",
    "airports_with_description_drop_table = \"DROP TABLE IF EXISTS airports_with_description;\"\n",
    "airport_countries_drop_table = \"DROP TABLE IF EXISTS airport_countries;\"\n",
    "airlines_and_countries_drop_table = \"DROP TABLE IF EXISTS airlines_and_countries;\"\n",
    "airports_past_flights_drop_table = \"DROP TABLE IF EXISTS airports_past_flights;\"\n",
    "ariline_codes_drop_table = \"DROP TABLE IF EXISTS ariline_codes;\"\n",
    "flights_2020_drop_table = \"DROP TABLE IF EXISTS flights_2020;\""
   ]
  },
  {
   "cell_type": "code",
   "execution_count": null,
   "metadata": {},
   "outputs": [],
   "source": [
    "airports_creating_table = (\"\"\"CREATE TABLE IF NOT EXISTS airports(airport_name varchar, state varchar, city varchar, country varchar, IATA varchar\"\"\")\n",
    "airlines_creating_table = (\"\"\"CREATE TABLE IF NOT EXISTS airlines(IATA varchar PRIMARY KEY, airline_name varchar, , ICAO varchar, Country varchar, Active varchar)\"\"\")\n",
    "airport_description_creating_table = (\"\"\"CREATE TABLE IF NOT EXISTS airport_description(airport_name varchar PRIMARY KEY, airport_abbreviation varchar, latitude float, longitude float, city varchar, state varchar, country varchar, airport_type varchar, iso_country varchar, iso_region varchar, elevation varchar)\"\"\")\n",
    "airport_flights_2020_creating_table = (\"\"\"CREATE TABLE IF NOT EXISTS airport_flights_2020(airline_name varchar PRIMARY KEY, airport_name_dest varchar, airport_name_arr varchar, IATA varchar, num_passengers int, year int, month int)\"\"\")\n",
    "population_creating_table = (\"\"\"CREATE TABLE IF NOT EXISTS population(airport_name varchar PRIMARY KEY, population int)\"\"\")\n",
    "past_flights_creating_table = (\"\"\"CREATE TABLE IF NOT EXISTS past_flights(airport_name_dest varchar PRIMARY KEY, airport_name_arr varchar,date date, passengers int, seats int, distance int)\"\"\")\n",
    "airports_with_description_creating_table = (\"\"\"CREATE TABLE IF NOT EXISTS airports_with_description(id int, ident varchar, type varchar, name varchar, letitude_deg float, longitude_deg float, elevation_ft float, continent varchar, iso_country varchar, iso_region varchar, municipality varchar, scheduled_service varchar, gps_code varchar, iata_code varchar, local_code varchar, home_link varchar, wikipedia_link, keywords varchar)\"\"\")\n",
    "airport_countries_creating_table = (\"\"\"CREATE TABLE IF NOT EXISTS airport_countries(id int, code varchar, name varchar, continent varchar, wikipedia_link varchar, keywords varchar)\"\"\")\n",
    "airlines_and_countries_creating_table = (\"\"\"CREATE TABLE IF NOT EXISTS airlines_and_countries(Airline varchar, IATA varchar, Icao_Code varchar, Callsign varchar, Country varchar, active varchar)\"\"\")\n",
    "airports_past_flights_creating_table = (\"\"\"CREATE TABLE IF NOT EXISTS airports_past_flights(Origin_airport varchar, Destination_airport varchar, Origin_city varchar, Destination_city varchar, Passengers int, Seats int, Flights int, Distance int, Fly_date date, Origin_population int, Destination_population int, org_airport_lat float, Org_airport_long float, Dest_airport_lat float, Dest_airport_long float)\"\"\")\n",
    "ariline_codes_table = (\"\"\"CREATE TABLE IF NOT EXISTS ariline_codes(Carrier_Name varchar, IATA varchar, ICAO varchar)\"\"\")\n",
    "flights_2020_creating_table = (\"\"\"CREATE TABLE IF NOT EXISTS flights_2020(Passengers int, Freight int, Mail int, Distance int, Unique_Carrier varchar, Airline_ID int, Unique_Carrier_Name varchar, Unique_Carrier_Entity int, Region varchar, Carrier varchar, Carrier_name varchar, Carrier_group varchar, Carrier_group_new varchar,Origin_airport_id int, origin_airport_seq_id int, Origin_city_market_id int, origin varchar, Origin_city_name varchar, Origin_state_abr varchar, origin_state_fips varchar, Origin_state_nm varchar, Origin_wac varchar, Dest_airport_id int, Dest_airport_seq_id int, dest_city_market_id int, Dest varchar, Dest_city_name varchar, Dest_state_abr varchar, Dest_state_fips varchar, Dest_state_nm varchar, Dest_wac varchar, Year int, Quarter int, Month int, Distance_group int, Class varchar)\"\"\")"
   ]
  },
  {
   "cell_type": "code",
   "execution_count": 179,
   "metadata": {},
   "outputs": [
    {
     "name": "stdout",
     "output_type": "stream",
     "text": [
      "Index(['PASSENGERS', 'FREIGHT', 'MAIL', 'DISTANCE', 'UNIQUE_CARRIER',\n",
      "       'AIRLINE_ID', 'UNIQUE_CARRIER_NAME', 'UNIQUE_CARRIER_ENTITY', 'REGION',\n",
      "       'CARRIER', 'CARRIER_NAME', 'CARRIER_GROUP', 'CARRIER_GROUP_NEW',\n",
      "       'ORIGIN_AIRPORT_ID', 'ORIGIN_AIRPORT_SEQ_ID', 'ORIGIN_CITY_MARKET_ID',\n",
      "       'ORIGIN', 'ORIGIN_CITY_NAME', 'ORIGIN_STATE_ABR', 'ORIGIN_STATE_FIPS',\n",
      "       'ORIGIN_STATE_NM', 'ORIGIN_WAC', 'DEST_AIRPORT_ID',\n",
      "       'DEST_AIRPORT_SEQ_ID', 'DEST_CITY_MARKET_ID', 'DEST', 'DEST_CITY_NAME',\n",
      "       'DEST_STATE_ABR', 'DEST_STATE_FIPS', 'DEST_STATE_NM', 'DEST_WAC',\n",
      "       'YEAR', 'QUARTER', 'MONTH', 'DISTANCE_GROUP', 'CLASS'],\n",
      "      dtype='object')\n"
     ]
    },
    {
     "data": {
      "text/html": [
       "<div>\n",
       "<style scoped>\n",
       "    .dataframe tbody tr th:only-of-type {\n",
       "        vertical-align: middle;\n",
       "    }\n",
       "\n",
       "    .dataframe tbody tr th {\n",
       "        vertical-align: top;\n",
       "    }\n",
       "\n",
       "    .dataframe thead th {\n",
       "        text-align: right;\n",
       "    }\n",
       "</style>\n",
       "<table border=\"1\" class=\"dataframe\">\n",
       "  <thead>\n",
       "    <tr style=\"text-align: right;\">\n",
       "      <th></th>\n",
       "      <th>PASSENGERS</th>\n",
       "      <th>FREIGHT</th>\n",
       "      <th>MAIL</th>\n",
       "      <th>DISTANCE</th>\n",
       "      <th>UNIQUE_CARRIER</th>\n",
       "      <th>AIRLINE_ID</th>\n",
       "      <th>UNIQUE_CARRIER_NAME</th>\n",
       "      <th>UNIQUE_CARRIER_ENTITY</th>\n",
       "      <th>REGION</th>\n",
       "      <th>CARRIER</th>\n",
       "      <th>...</th>\n",
       "      <th>DEST_CITY_NAME</th>\n",
       "      <th>DEST_STATE_ABR</th>\n",
       "      <th>DEST_STATE_FIPS</th>\n",
       "      <th>DEST_STATE_NM</th>\n",
       "      <th>DEST_WAC</th>\n",
       "      <th>YEAR</th>\n",
       "      <th>QUARTER</th>\n",
       "      <th>MONTH</th>\n",
       "      <th>DISTANCE_GROUP</th>\n",
       "      <th>CLASS</th>\n",
       "    </tr>\n",
       "  </thead>\n",
       "  <tbody>\n",
       "    <tr>\n",
       "      <th>88377</th>\n",
       "      <td>4603.0</td>\n",
       "      <td>2104.0</td>\n",
       "      <td>0.0</td>\n",
       "      <td>479.0</td>\n",
       "      <td>QX</td>\n",
       "      <td>19687</td>\n",
       "      <td>Horizon Air</td>\n",
       "      <td>06580</td>\n",
       "      <td>D</td>\n",
       "      <td>QX</td>\n",
       "      <td>...</td>\n",
       "      <td>Sacramento, CA</td>\n",
       "      <td>CA</td>\n",
       "      <td>6</td>\n",
       "      <td>California</td>\n",
       "      <td>91</td>\n",
       "      <td>2020</td>\n",
       "      <td>1</td>\n",
       "      <td>1</td>\n",
       "      <td>1</td>\n",
       "      <td>F</td>\n",
       "    </tr>\n",
       "    <tr>\n",
       "      <th>37596</th>\n",
       "      <td>37.0</td>\n",
       "      <td>0.0</td>\n",
       "      <td>0.0</td>\n",
       "      <td>912.0</td>\n",
       "      <td>WN</td>\n",
       "      <td>19393</td>\n",
       "      <td>Southwest Airlines Co.</td>\n",
       "      <td>06725</td>\n",
       "      <td>D</td>\n",
       "      <td>WN</td>\n",
       "      <td>...</td>\n",
       "      <td>Little Rock, AR</td>\n",
       "      <td>AR</td>\n",
       "      <td>5</td>\n",
       "      <td>Arkansas</td>\n",
       "      <td>71</td>\n",
       "      <td>2020</td>\n",
       "      <td>1</td>\n",
       "      <td>3</td>\n",
       "      <td>2</td>\n",
       "      <td>F</td>\n",
       "    </tr>\n",
       "  </tbody>\n",
       "</table>\n",
       "<p>2 rows × 36 columns</p>\n",
       "</div>"
      ],
      "text/plain": [
       "       PASSENGERS  FREIGHT  MAIL  DISTANCE UNIQUE_CARRIER  AIRLINE_ID  \\\n",
       "88377      4603.0   2104.0   0.0     479.0             QX       19687   \n",
       "37596        37.0      0.0   0.0     912.0             WN       19393   \n",
       "\n",
       "          UNIQUE_CARRIER_NAME UNIQUE_CARRIER_ENTITY REGION CARRIER  ...  \\\n",
       "88377             Horizon Air                 06580      D      QX  ...   \n",
       "37596  Southwest Airlines Co.                 06725      D      WN  ...   \n",
       "\n",
       "        DEST_CITY_NAME  DEST_STATE_ABR  DEST_STATE_FIPS  DEST_STATE_NM  \\\n",
       "88377   Sacramento, CA              CA                6     California   \n",
       "37596  Little Rock, AR              AR                5       Arkansas   \n",
       "\n",
       "       DEST_WAC  YEAR QUARTER MONTH DISTANCE_GROUP  CLASS  \n",
       "88377        91  2020       1     1              1      F  \n",
       "37596        71  2020       1     3              2      F  \n",
       "\n",
       "[2 rows x 36 columns]"
      ]
     },
     "execution_count": 179,
     "metadata": {},
     "output_type": "execute_result"
    }
   ],
   "source": [
    "print(Air_Carrier_Time.columns)\n",
    "Air_Carrier_Time.sample(2)\n",
    "#airport_countries\n",
    "#airlines\n",
    "#airports_full\n",
    "#Ariline_codes\n",
    "#Air_Carrier_Time"
   ]
  },
  {
   "cell_type": "code",
   "execution_count": null,
   "metadata": {},
   "outputs": [],
   "source": [
    "airports_with_description_toS3 = airports_with_description.to_csv('s3://airlinedata-udaicty-capstone/airports/airports_with_description.csv', index=False)\n",
    "airport_countries_toS3 = airport_countries.to_csv('s3://airlinedata-udaicty-capstone/airports/airport_countries.csv', index=False)\n",
    "airlines_and_countries_toS3 = airlines_and_countries.to_csv('s3://airlinedata-udaicty-capstone/airlines/airlines_and_countries.csv', index=False)\n",
    "airports_past_flights_toS3 = airports_past_flights.to_csv('s3://airlinedata-udaicty-capstone/flights/airports_past_flights.csv', index=False)\n",
    "ariline_codes_toS3 = ariline_codes.to_csv('s3://airlinedata-udaicty-capstone/arilines/ariline_codes.csv', index=False)\n",
    "flights_2020_toS3 = flights_2020.to_csv('s3://airlinedata-udaicty-capstone/flights/flights_2020.csv', index=False)"
   ]
  },
  {
   "cell_type": "code",
   "execution_count": null,
   "metadata": {},
   "outputs": [],
   "source": [
    "airports_with_description, airport_countries, airlines_and_countries, airports_past_flights, ariline_codes, flights_2020"
   ]
  },
  {
   "cell_type": "code",
   "execution_count": null,
   "metadata": {},
   "outputs": [],
   "source": [
    "airports_with_description_copying = (\"\"\"copy airports_with_description from {}\n",
    "iam_role {}\n",
    "compupdate off\n",
    "Csv NOLOAD;\n",
    "\"\"\").format(config['S3']['airports_with_description_data'], config['IAM_ROLE']['ARN'])\n",
    "airport_countries_copying = (\"\"\"copy airport_countries from {}\n",
    "iam_role {}\n",
    "compupdate off\n",
    "Csv NOLOAD;\n",
    "\"\"\").format(config['S3']['airport_countries_data'], config['IAM_ROLE']['ARN'])\n",
    "airlines_and_countries_copying = (\"\"\"copy airlines_and_countries from {}\n",
    "iam_role {}\n",
    "compupdate off\n",
    "Csv NOLOAD;\n",
    "\"\"\").format(config['S3']['airlines_and_countries_data'], config['IAM_ROLE']['ARN'])\n",
    "airports_past_flights_copying = (\"\"\"copy airports_past_flights from {}\n",
    "iam_role {}\n",
    "compupdate off\n",
    "Csv NOLOAD;\n",
    "\"\"\").format(config['S3']['airports_past_flights_data'], config['IAM_ROLE']['ARN'])\n",
    "ariline_codes_copying = (\"\"\"copy ariline_codes from {}\n",
    "iam_role {}\n",
    "compupdate off\n",
    "Csv NOLOAD;\n",
    "\"\"\").format(config['S3']['aariline_codes_data'], config['IAM_ROLE']['ARN'])\n",
    "flights_2020_copying = (\"\"\"copy flights_2020 from {}\n",
    "iam_role {}\n",
    "compupdate off\n",
    "Csv NOLOAD;\n",
    "\"\"\").format(config['S3']['flights_2020_data'], config['IAM_ROLE']['ARN'])"
   ]
  },
  {
   "cell_type": "code",
   "execution_count": null,
   "metadata": {},
   "outputs": [],
   "source": [
    "airports_with_description_data='s3://airlinedata-udaicty-capstone/airports/airports_with_description.csv'\n",
    "airport_countries_data='s3://airlinedata-udaicty-capstone/airports/airport_countries.csv'\n",
    "airlines_and_countries_data='s3://airlinedata-udaicty-capstone/airlines/airlines_and_countries.csv'\n",
    "airports_past_flights_data ='s3://airlinedata-udaicty-capstone/flights/airports_past_flights.csv'\n",
    "aariline_codes_data = 's3://airlinedata-udaicty-capstone/arilines/ariline_codes.csv'\n",
    "flights_2020_data = 's3://airlinedata-udaicty-capstone/flights/flights_2020.csv'"
   ]
  },
  {
   "cell_type": "code",
   "execution_count": null,
   "metadata": {},
   "outputs": [],
   "source": []
  }
 ],
 "metadata": {
  "kernelspec": {
   "display_name": "Python 3",
   "language": "python",
   "name": "python3"
  },
  "language_info": {
   "codemirror_mode": {
    "name": "ipython",
    "version": 3
   },
   "file_extension": ".py",
   "mimetype": "text/x-python",
   "name": "python",
   "nbconvert_exporter": "python",
   "pygments_lexer": "ipython3",
   "version": "3.7.3"
  }
 },
 "nbformat": 4,
 "nbformat_minor": 4
}
